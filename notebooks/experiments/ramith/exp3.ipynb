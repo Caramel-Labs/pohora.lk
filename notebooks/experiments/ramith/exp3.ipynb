{
 "cells": [
  {
   "cell_type": "markdown",
   "metadata": {},
   "source": [
    "### Preditcing Fertilizer Name"
   ]
  },
  {
   "cell_type": "code",
   "execution_count": 1,
   "metadata": {},
   "outputs": [
    {
     "data": {
      "text/html": [
       "<div>\n",
       "<style scoped>\n",
       "    .dataframe tbody tr th:only-of-type {\n",
       "        vertical-align: middle;\n",
       "    }\n",
       "\n",
       "    .dataframe tbody tr th {\n",
       "        vertical-align: top;\n",
       "    }\n",
       "\n",
       "    .dataframe thead th {\n",
       "        text-align: right;\n",
       "    }\n",
       "</style>\n",
       "<table border=\"1\" class=\"dataframe\">\n",
       "  <thead>\n",
       "    <tr style=\"text-align: right;\">\n",
       "      <th></th>\n",
       "      <th>Temparature</th>\n",
       "      <th>Humidity</th>\n",
       "      <th>Moisture</th>\n",
       "      <th>Soil Type</th>\n",
       "      <th>Crop Type</th>\n",
       "      <th>Nitrogen</th>\n",
       "      <th>Potassium</th>\n",
       "      <th>Phosphorous</th>\n",
       "      <th>Fertilizer Name</th>\n",
       "    </tr>\n",
       "  </thead>\n",
       "  <tbody>\n",
       "    <tr>\n",
       "      <th>0</th>\n",
       "      <td>26.0</td>\n",
       "      <td>52.0</td>\n",
       "      <td>38.0</td>\n",
       "      <td>Sandy</td>\n",
       "      <td>Maize</td>\n",
       "      <td>37</td>\n",
       "      <td>0</td>\n",
       "      <td>0</td>\n",
       "      <td>Urea</td>\n",
       "    </tr>\n",
       "    <tr>\n",
       "      <th>1</th>\n",
       "      <td>29.0</td>\n",
       "      <td>52.0</td>\n",
       "      <td>45.0</td>\n",
       "      <td>Loamy</td>\n",
       "      <td>Sugarcane</td>\n",
       "      <td>12</td>\n",
       "      <td>0</td>\n",
       "      <td>36</td>\n",
       "      <td>DAP</td>\n",
       "    </tr>\n",
       "    <tr>\n",
       "      <th>2</th>\n",
       "      <td>34.0</td>\n",
       "      <td>65.0</td>\n",
       "      <td>62.0</td>\n",
       "      <td>Black</td>\n",
       "      <td>Cotton</td>\n",
       "      <td>7</td>\n",
       "      <td>9</td>\n",
       "      <td>30</td>\n",
       "      <td>14-35-14</td>\n",
       "    </tr>\n",
       "    <tr>\n",
       "      <th>3</th>\n",
       "      <td>32.0</td>\n",
       "      <td>62.0</td>\n",
       "      <td>34.0</td>\n",
       "      <td>Red</td>\n",
       "      <td>Tobacco</td>\n",
       "      <td>22</td>\n",
       "      <td>0</td>\n",
       "      <td>20</td>\n",
       "      <td>28-28</td>\n",
       "    </tr>\n",
       "    <tr>\n",
       "      <th>4</th>\n",
       "      <td>28.0</td>\n",
       "      <td>54.0</td>\n",
       "      <td>46.0</td>\n",
       "      <td>Clayey</td>\n",
       "      <td>Paddy</td>\n",
       "      <td>35</td>\n",
       "      <td>0</td>\n",
       "      <td>0</td>\n",
       "      <td>Urea</td>\n",
       "    </tr>\n",
       "  </tbody>\n",
       "</table>\n",
       "</div>"
      ],
      "text/plain": [
       "   Temparature  Humidity  Moisture Soil Type  Crop Type  Nitrogen  Potassium  \\\n",
       "0         26.0      52.0      38.0     Sandy      Maize        37          0   \n",
       "1         29.0      52.0      45.0     Loamy  Sugarcane        12          0   \n",
       "2         34.0      65.0      62.0     Black     Cotton         7          9   \n",
       "3         32.0      62.0      34.0       Red    Tobacco        22          0   \n",
       "4         28.0      54.0      46.0    Clayey      Paddy        35          0   \n",
       "\n",
       "   Phosphorous Fertilizer Name  \n",
       "0            0            Urea  \n",
       "1           36             DAP  \n",
       "2           30        14-35-14  \n",
       "3           20           28-28  \n",
       "4            0            Urea  "
      ]
     },
     "execution_count": 1,
     "metadata": {},
     "output_type": "execute_result"
    }
   ],
   "source": [
    "import pandas as pd\n",
    "\n",
    "df = pd.read_csv('fertilizer.csv')\n",
    "\n",
    "df.head()"
   ]
  },
  {
   "cell_type": "code",
   "execution_count": 2,
   "metadata": {},
   "outputs": [],
   "source": [
    "df.rename(columns={'Temparature':'Temperature'}, inplace=True)"
   ]
  },
  {
   "cell_type": "code",
   "execution_count": 7,
   "metadata": {},
   "outputs": [
    {
     "data": {
      "text/plain": [
       "(8000, 9)"
      ]
     },
     "execution_count": 7,
     "metadata": {},
     "output_type": "execute_result"
    }
   ],
   "source": [
    "df.shape"
   ]
  },
  {
   "cell_type": "code",
   "execution_count": 3,
   "metadata": {},
   "outputs": [
    {
     "data": {
      "text/plain": [
       "array(['Sandy', 'Loamy', 'Black', 'Red', 'Clayey'], dtype=object)"
      ]
     },
     "execution_count": 3,
     "metadata": {},
     "output_type": "execute_result"
    }
   ],
   "source": [
    "df['Soil Type'].unique()"
   ]
  },
  {
   "cell_type": "code",
   "execution_count": 4,
   "metadata": {},
   "outputs": [
    {
     "data": {
      "text/plain": [
       "array(['Maize', 'Sugarcane', 'Cotton', 'Tobacco', 'Paddy', 'Barley',\n",
       "       'Wheat', 'Millets', 'Oil seeds', 'Pulses', 'Ground Nuts'],\n",
       "      dtype=object)"
      ]
     },
     "execution_count": 4,
     "metadata": {},
     "output_type": "execute_result"
    }
   ],
   "source": [
    "df['Crop Type'].unique()"
   ]
  },
  {
   "cell_type": "code",
   "execution_count": 5,
   "metadata": {},
   "outputs": [
    {
     "data": {
      "text/plain": [
       "array(['Urea', 'DAP', '14-35-14', '28-28', '17-17-17', '20-20',\n",
       "       '10-26-26'], dtype=object)"
      ]
     },
     "execution_count": 5,
     "metadata": {},
     "output_type": "execute_result"
    }
   ],
   "source": [
    "df['Fertilizer Name'].unique()"
   ]
  },
  {
   "cell_type": "code",
   "execution_count": 8,
   "metadata": {},
   "outputs": [
    {
     "name": "stdout",
     "output_type": "stream",
     "text": [
      "\n",
      "Fertilizer Name distribution:\n",
      "Fertilizer Name\n",
      "14-35-14    1188\n",
      "Urea        1170\n",
      "DAP         1167\n",
      "10-26-26    1128\n",
      "17-17-17    1124\n",
      "28-28       1120\n",
      "20-20       1103\n",
      "Name: count, dtype: int64\n"
     ]
    }
   ],
   "source": [
    "# Check the distribution of the target variable (Fertilizer Name)\n",
    "print(\"\\nFertilizer Name distribution:\")\n",
    "fertilizer_counts = df['Fertilizer Name'].value_counts()\n",
    "print(fertilizer_counts)"
   ]
  },
  {
   "cell_type": "code",
   "execution_count": 9,
   "metadata": {},
   "outputs": [
    {
     "data": {
      "image/png": "[encoded data removed]",
      "text/plain": [
       "<Figure size 1000x600 with 1 Axes>"
      ]
     },
     "metadata": {},
     "output_type": "display_data"
    }
   ],
   "source": [
    "import matplotlib.pyplot as plt\n",
    "import seaborn as sns\n",
    "\n",
    "# Visualize fertilizer distribution\n",
    "plt.figure(figsize=(10, 6))\n",
    "sns.countplot(y=df['Fertilizer Name'], order=df['Fertilizer Name'].value_counts().index)\n",
    "plt.title('Distribution of Fertilizer Types')\n",
    "plt.xlabel('Count')\n",
    "plt.ylabel('Fertilizer Name')\n",
    "plt.tight_layout()\n",
    "plt.show()"
   ]
  },
  {
   "cell_type": "code",
   "execution_count": 10,
   "metadata": {},
   "outputs": [],
   "source": [
    "# Prepare features and target\n",
    "# For fertilizer prediction, we should include Crop Type as a feature\n",
    "# But drop the target (Fertilizer Name)\n",
    "X = df.drop(['Fertilizer Name'], axis=1)\n",
    "y = df['Fertilizer Name']"
   ]
  },
  {
   "cell_type": "code",
   "execution_count": 11,
   "metadata": {},
   "outputs": [],
   "source": [
    "# One-hot encode categorical features (Soil Type and Crop Type)\n",
    "X = pd.get_dummies(X, columns=['Soil Type', 'Crop Type'], drop_first=False)"
   ]
  },
  {
   "cell_type": "code",
   "execution_count": 14,
   "metadata": {},
   "outputs": [
    {
     "data": {
      "text/html": [
       "<div>\n",
       "<style scoped>\n",
       "    .dataframe tbody tr th:only-of-type {\n",
       "        vertical-align: middle;\n",
       "    }\n",
       "\n",
       "    .dataframe tbody tr th {\n",
       "        vertical-align: top;\n",
       "    }\n",
       "\n",
       "    .dataframe thead th {\n",
       "        text-align: right;\n",
       "    }\n",
       "</style>\n",
       "<table border=\"1\" class=\"dataframe\">\n",
       "  <thead>\n",
       "    <tr style=\"text-align: right;\">\n",
       "      <th></th>\n",
       "      <th>Temperature</th>\n",
       "      <th>Humidity</th>\n",
       "      <th>Moisture</th>\n",
       "      <th>Nitrogen</th>\n",
       "      <th>Potassium</th>\n",
       "      <th>Phosphorous</th>\n",
       "      <th>Soil Type_Black</th>\n",
       "      <th>Soil Type_Clayey</th>\n",
       "      <th>Soil Type_Loamy</th>\n",
       "      <th>Soil Type_Red</th>\n",
       "      <th>...</th>\n",
       "      <th>Crop Type_Cotton</th>\n",
       "      <th>Crop Type_Ground Nuts</th>\n",
       "      <th>Crop Type_Maize</th>\n",
       "      <th>Crop Type_Millets</th>\n",
       "      <th>Crop Type_Oil seeds</th>\n",
       "      <th>Crop Type_Paddy</th>\n",
       "      <th>Crop Type_Pulses</th>\n",
       "      <th>Crop Type_Sugarcane</th>\n",
       "      <th>Crop Type_Tobacco</th>\n",
       "      <th>Crop Type_Wheat</th>\n",
       "    </tr>\n",
       "  </thead>\n",
       "  <tbody>\n",
       "    <tr>\n",
       "      <th>0</th>\n",
       "      <td>26.0</td>\n",
       "      <td>52.0</td>\n",
       "      <td>38.0</td>\n",
       "      <td>37</td>\n",
       "      <td>0</td>\n",
       "      <td>0</td>\n",
       "      <td>False</td>\n",
       "      <td>False</td>\n",
       "      <td>False</td>\n",
       "      <td>False</td>\n",
       "      <td>...</td>\n",
       "      <td>False</td>\n",
       "      <td>False</td>\n",
       "      <td>True</td>\n",
       "      <td>False</td>\n",
       "      <td>False</td>\n",
       "      <td>False</td>\n",
       "      <td>False</td>\n",
       "      <td>False</td>\n",
       "      <td>False</td>\n",
       "      <td>False</td>\n",
       "    </tr>\n",
       "    <tr>\n",
       "      <th>1</th>\n",
       "      <td>29.0</td>\n",
       "      <td>52.0</td>\n",
       "      <td>45.0</td>\n",
       "      <td>12</td>\n",
       "      <td>0</td>\n",
       "      <td>36</td>\n",
       "      <td>False</td>\n",
       "      <td>False</td>\n",
       "      <td>True</td>\n",
       "      <td>False</td>\n",
       "      <td>...</td>\n",
       "      <td>False</td>\n",
       "      <td>False</td>\n",
       "      <td>False</td>\n",
       "      <td>False</td>\n",
       "      <td>False</td>\n",
       "      <td>False</td>\n",
       "      <td>False</td>\n",
       "      <td>True</td>\n",
       "      <td>False</td>\n",
       "      <td>False</td>\n",
       "    </tr>\n",
       "    <tr>\n",
       "      <th>2</th>\n",
       "      <td>34.0</td>\n",
       "      <td>65.0</td>\n",
       "      <td>62.0</td>\n",
       "      <td>7</td>\n",
       "      <td>9</td>\n",
       "      <td>30</td>\n",
       "      <td>True</td>\n",
       "      <td>False</td>\n",
       "      <td>False</td>\n",
       "      <td>False</td>\n",
       "      <td>...</td>\n",
       "      <td>True</td>\n",
       "      <td>False</td>\n",
       "      <td>False</td>\n",
       "      <td>False</td>\n",
       "      <td>False</td>\n",
       "      <td>False</td>\n",
       "      <td>False</td>\n",
       "      <td>False</td>\n",
       "      <td>False</td>\n",
       "      <td>False</td>\n",
       "    </tr>\n",
       "    <tr>\n",
       "      <th>3</th>\n",
       "      <td>32.0</td>\n",
       "      <td>62.0</td>\n",
       "      <td>34.0</td>\n",
       "      <td>22</td>\n",
       "      <td>0</td>\n",
       "      <td>20</td>\n",
       "      <td>False</td>\n",
       "      <td>False</td>\n",
       "      <td>False</td>\n",
       "      <td>True</td>\n",
       "      <td>...</td>\n",
       "      <td>False</td>\n",
       "      <td>False</td>\n",
       "      <td>False</td>\n",
       "      <td>False</td>\n",
       "      <td>False</td>\n",
       "      <td>False</td>\n",
       "      <td>False</td>\n",
       "      <td>False</td>\n",
       "      <td>True</td>\n",
       "      <td>False</td>\n",
       "    </tr>\n",
       "    <tr>\n",
       "      <th>4</th>\n",
       "      <td>28.0</td>\n",
       "      <td>54.0</td>\n",
       "      <td>46.0</td>\n",
       "      <td>35</td>\n",
       "      <td>0</td>\n",
       "      <td>0</td>\n",
       "      <td>False</td>\n",
       "      <td>True</td>\n",
       "      <td>False</td>\n",
       "      <td>False</td>\n",
       "      <td>...</td>\n",
       "      <td>False</td>\n",
       "      <td>False</td>\n",
       "      <td>False</td>\n",
       "      <td>False</td>\n",
       "      <td>False</td>\n",
       "      <td>True</td>\n",
       "      <td>False</td>\n",
       "      <td>False</td>\n",
       "      <td>False</td>\n",
       "      <td>False</td>\n",
       "    </tr>\n",
       "  </tbody>\n",
       "</table>\n",
       "<p>5 rows × 22 columns</p>\n",
       "</div>"
      ],
      "text/plain": [
       "   Temperature  Humidity  Moisture  Nitrogen  Potassium  Phosphorous  \\\n",
       "0         26.0      52.0      38.0        37          0            0   \n",
       "1         29.0      52.0      45.0        12          0           36   \n",
       "2         34.0      65.0      62.0         7          9           30   \n",
       "3         32.0      62.0      34.0        22          0           20   \n",
       "4         28.0      54.0      46.0        35          0            0   \n",
       "\n",
       "   Soil Type_Black  Soil Type_Clayey  Soil Type_Loamy  Soil Type_Red  ...  \\\n",
       "0            False             False            False          False  ...   \n",
       "1            False             False             True          False  ...   \n",
       "2             True             False            False          False  ...   \n",
       "3            False             False            False           True  ...   \n",
       "4            False              True            False          False  ...   \n",
       "\n",
       "   Crop Type_Cotton  Crop Type_Ground Nuts  Crop Type_Maize  \\\n",
       "0             False                  False             True   \n",
       "1             False                  False            False   \n",
       "2              True                  False            False   \n",
       "3             False                  False            False   \n",
       "4             False                  False            False   \n",
       "\n",
       "   Crop Type_Millets  Crop Type_Oil seeds  Crop Type_Paddy  Crop Type_Pulses  \\\n",
       "0              False                False            False             False   \n",
       "1              False                False            False             False   \n",
       "2              False                False            False             False   \n",
       "3              False                False            False             False   \n",
       "4              False                False             True             False   \n",
       "\n",
       "   Crop Type_Sugarcane  Crop Type_Tobacco  Crop Type_Wheat  \n",
       "0                False              False            False  \n",
       "1                 True              False            False  \n",
       "2                False              False            False  \n",
       "3                False               True            False  \n",
       "4                False              False            False  \n",
       "\n",
       "[5 rows x 22 columns]"
      ]
     },
     "execution_count": 14,
     "metadata": {},
     "output_type": "execute_result"
    }
   ],
   "source": [
    "X.head()"
   ]
  },
  {
   "cell_type": "code",
   "execution_count": 20,
   "metadata": {},
   "outputs": [],
   "source": [
    "soil_columns = [col for col in X.columns if \"Soil Type_\" in col]\n",
    "X[soil_columns] = X[soil_columns].astype(int)"
   ]
  },
  {
   "cell_type": "code",
   "execution_count": 18,
   "metadata": {},
   "outputs": [],
   "source": [
    "crop_columns = [col for col in X.columns if \"Crop Type_\" in col]\n",
    "X[crop_columns] = X[crop_columns].astype(int)"
   ]
  },
  {
   "cell_type": "code",
   "execution_count": 19,
   "metadata": {},
   "outputs": [
    {
     "data": {
      "text/html": [
       "<div>\n",
       "<style scoped>\n",
       "    .dataframe tbody tr th:only-of-type {\n",
       "        vertical-align: middle;\n",
       "    }\n",
       "\n",
       "    .dataframe tbody tr th {\n",
       "        vertical-align: top;\n",
       "    }\n",
       "\n",
       "    .dataframe thead th {\n",
       "        text-align: right;\n",
       "    }\n",
       "</style>\n",
       "<table border=\"1\" class=\"dataframe\">\n",
       "  <thead>\n",
       "    <tr style=\"text-align: right;\">\n",
       "      <th></th>\n",
       "      <th>Temperature</th>\n",
       "      <th>Humidity</th>\n",
       "      <th>Moisture</th>\n",
       "      <th>Nitrogen</th>\n",
       "      <th>Potassium</th>\n",
       "      <th>Phosphorous</th>\n",
       "      <th>Soil Type_Black</th>\n",
       "      <th>Soil Type_Clayey</th>\n",
       "      <th>Soil Type_Loamy</th>\n",
       "      <th>Soil Type_Red</th>\n",
       "      <th>...</th>\n",
       "      <th>Crop Type_Cotton</th>\n",
       "      <th>Crop Type_Ground Nuts</th>\n",
       "      <th>Crop Type_Maize</th>\n",
       "      <th>Crop Type_Millets</th>\n",
       "      <th>Crop Type_Oil seeds</th>\n",
       "      <th>Crop Type_Paddy</th>\n",
       "      <th>Crop Type_Pulses</th>\n",
       "      <th>Crop Type_Sugarcane</th>\n",
       "      <th>Crop Type_Tobacco</th>\n",
       "      <th>Crop Type_Wheat</th>\n",
       "    </tr>\n",
       "  </thead>\n",
       "  <tbody>\n",
       "    <tr>\n",
       "      <th>0</th>\n",
       "      <td>26.0</td>\n",
       "      <td>52.0</td>\n",
       "      <td>38.0</td>\n",
       "      <td>37</td>\n",
       "      <td>0</td>\n",
       "      <td>0</td>\n",
       "      <td>0</td>\n",
       "      <td>0</td>\n",
       "      <td>0</td>\n",
       "      <td>0</td>\n",
       "      <td>...</td>\n",
       "      <td>0</td>\n",
       "      <td>0</td>\n",
       "      <td>1</td>\n",
       "      <td>0</td>\n",
       "      <td>0</td>\n",
       "      <td>0</td>\n",
       "      <td>0</td>\n",
       "      <td>0</td>\n",
       "      <td>0</td>\n",
       "      <td>0</td>\n",
       "    </tr>\n",
       "    <tr>\n",
       "      <th>1</th>\n",
       "      <td>29.0</td>\n",
       "      <td>52.0</td>\n",
       "      <td>45.0</td>\n",
       "      <td>12</td>\n",
       "      <td>0</td>\n",
       "      <td>36</td>\n",
       "      <td>0</td>\n",
       "      <td>0</td>\n",
       "      <td>1</td>\n",
       "      <td>0</td>\n",
       "      <td>...</td>\n",
       "      <td>0</td>\n",
       "      <td>0</td>\n",
       "      <td>0</td>\n",
       "      <td>0</td>\n",
       "      <td>0</td>\n",
       "      <td>0</td>\n",
       "      <td>0</td>\n",
       "      <td>1</td>\n",
       "      <td>0</td>\n",
       "      <td>0</td>\n",
       "    </tr>\n",
       "    <tr>\n",
       "      <th>2</th>\n",
       "      <td>34.0</td>\n",
       "      <td>65.0</td>\n",
       "      <td>62.0</td>\n",
       "      <td>7</td>\n",
       "      <td>9</td>\n",
       "      <td>30</td>\n",
       "      <td>1</td>\n",
       "      <td>0</td>\n",
       "      <td>0</td>\n",
       "      <td>0</td>\n",
       "      <td>...</td>\n",
       "      <td>1</td>\n",
       "      <td>0</td>\n",
       "      <td>0</td>\n",
       "      <td>0</td>\n",
       "      <td>0</td>\n",
       "      <td>0</td>\n",
       "      <td>0</td>\n",
       "      <td>0</td>\n",
       "      <td>0</td>\n",
       "      <td>0</td>\n",
       "    </tr>\n",
       "    <tr>\n",
       "      <th>3</th>\n",
       "      <td>32.0</td>\n",
       "      <td>62.0</td>\n",
       "      <td>34.0</td>\n",
       "      <td>22</td>\n",
       "      <td>0</td>\n",
       "      <td>20</td>\n",
       "      <td>0</td>\n",
       "      <td>0</td>\n",
       "      <td>0</td>\n",
       "      <td>1</td>\n",
       "      <td>...</td>\n",
       "      <td>0</td>\n",
       "      <td>0</td>\n",
       "      <td>0</td>\n",
       "      <td>0</td>\n",
       "      <td>0</td>\n",
       "      <td>0</td>\n",
       "      <td>0</td>\n",
       "      <td>0</td>\n",
       "      <td>1</td>\n",
       "      <td>0</td>\n",
       "    </tr>\n",
       "    <tr>\n",
       "      <th>4</th>\n",
       "      <td>28.0</td>\n",
       "      <td>54.0</td>\n",
       "      <td>46.0</td>\n",
       "      <td>35</td>\n",
       "      <td>0</td>\n",
       "      <td>0</td>\n",
       "      <td>0</td>\n",
       "      <td>1</td>\n",
       "      <td>0</td>\n",
       "      <td>0</td>\n",
       "      <td>...</td>\n",
       "      <td>0</td>\n",
       "      <td>0</td>\n",
       "      <td>0</td>\n",
       "      <td>0</td>\n",
       "      <td>0</td>\n",
       "      <td>1</td>\n",
       "      <td>0</td>\n",
       "      <td>0</td>\n",
       "      <td>0</td>\n",
       "      <td>0</td>\n",
       "    </tr>\n",
       "  </tbody>\n",
       "</table>\n",
       "<p>5 rows × 22 columns</p>\n",
       "</div>"
      ],
      "text/plain": [
       "   Temperature  Humidity  Moisture  Nitrogen  Potassium  Phosphorous  \\\n",
       "0         26.0      52.0      38.0        37          0            0   \n",
       "1         29.0      52.0      45.0        12          0           36   \n",
       "2         34.0      65.0      62.0         7          9           30   \n",
       "3         32.0      62.0      34.0        22          0           20   \n",
       "4         28.0      54.0      46.0        35          0            0   \n",
       "\n",
       "   Soil Type_Black  Soil Type_Clayey  Soil Type_Loamy  Soil Type_Red  ...  \\\n",
       "0                0                 0                0              0  ...   \n",
       "1                0                 0                1              0  ...   \n",
       "2                1                 0                0              0  ...   \n",
       "3                0                 0                0              1  ...   \n",
       "4                0                 1                0              0  ...   \n",
       "\n",
       "   Crop Type_Cotton  Crop Type_Ground Nuts  Crop Type_Maize  \\\n",
       "0                 0                      0                1   \n",
       "1                 0                      0                0   \n",
       "2                 1                      0                0   \n",
       "3                 0                      0                0   \n",
       "4                 0                      0                0   \n",
       "\n",
       "   Crop Type_Millets  Crop Type_Oil seeds  Crop Type_Paddy  Crop Type_Pulses  \\\n",
       "0                  0                    0                0                 0   \n",
       "1                  0                    0                0                 0   \n",
       "2                  0                    0                0                 0   \n",
       "3                  0                    0                0                 0   \n",
       "4                  0                    0                1                 0   \n",
       "\n",
       "   Crop Type_Sugarcane  Crop Type_Tobacco  Crop Type_Wheat  \n",
       "0                    0                  0                0  \n",
       "1                    1                  0                0  \n",
       "2                    0                  0                0  \n",
       "3                    0                  1                0  \n",
       "4                    0                  0                0  \n",
       "\n",
       "[5 rows x 22 columns]"
      ]
     },
     "execution_count": 19,
     "metadata": {},
     "output_type": "execute_result"
    }
   ],
   "source": [
    "X.head()"
   ]
  },
  {
   "cell_type": "code",
   "execution_count": 12,
   "metadata": {},
   "outputs": [
    {
     "name": "stdout",
     "output_type": "stream",
     "text": [
      "\n",
      "Encoded fertilizer types:\n",
      "0: 10-26-26\n",
      "1: 14-35-14\n",
      "2: 17-17-17\n",
      "3: 20-20\n",
      "4: 28-28\n",
      "5: DAP\n",
      "6: Urea\n"
     ]
    }
   ],
   "source": [
    "from sklearn.preprocessing import LabelEncoder\n",
    "# Encode the target variable\n",
    "le = LabelEncoder()\n",
    "y_encoded = le.fit_transform(y)\n",
    "print(\"\\nEncoded fertilizer types:\")\n",
    "for i, fertilizer in enumerate(le.classes_):\n",
    "    print(f\"{i}: {fertilizer}\")"
   ]
  },
  {
   "cell_type": "code",
   "execution_count": 22,
   "metadata": {},
   "outputs": [
    {
     "name": "stdout",
     "output_type": "stream",
     "text": [
      "\n",
      "Training set shape: (6400, 22)\n",
      "Test set shape: (1600, 22)\n"
     ]
    }
   ],
   "source": [
    "from sklearn.model_selection import train_test_split\n",
    "\n",
    "# Split the data with stratification\n",
    "X_train, X_test, y_train, y_test = train_test_split(\n",
    "    X, y_encoded, test_size=0.2, random_state=42, stratify=y_encoded\n",
    ")\n",
    "\n",
    "print(f\"\\nTraining set shape: {X_train.shape}\")\n",
    "print(f\"Test set shape: {X_test.shape}\")"
   ]
  },
  {
   "cell_type": "code",
   "execution_count": 23,
   "metadata": {},
   "outputs": [],
   "source": [
    "from sklearn.preprocessing import StandardScaler\n",
    "\n",
    "# Scale the features\n",
    "scaler = StandardScaler()\n",
    "X_train_scaled = scaler.fit_transform(X_train)\n",
    "X_test_scaled = scaler.transform(X_test)"
   ]
  },
  {
   "cell_type": "code",
   "execution_count": 25,
   "metadata": {},
   "outputs": [
    {
     "name": "stdout",
     "output_type": "stream",
     "text": [
      "\n",
      "Original training set shape: (6400, 22)\n",
      "Resampled training set shape: (6650, 22)\n"
     ]
    }
   ],
   "source": [
    "from imblearn.over_sampling import SMOTE\n",
    "\n",
    "# Handle class imbalance with SMOTE\n",
    "smote = SMOTE(random_state=42)\n",
    "X_train_resampled, y_train_resampled = smote.fit_resample(X_train_scaled, y_train)\n",
    "\n",
    "print(f\"\\nOriginal training set shape: {X_train.shape}\")\n",
    "print(f\"Resampled training set shape: {X_train_resampled.shape}\")"
   ]
  },
  {
   "cell_type": "code",
   "execution_count": 34,
   "metadata": {},
   "outputs": [
    {
     "name": "stdout",
     "output_type": "stream",
     "text": [
      "\n",
      "Random Forest Accuracy: 0.1450\n"
     ]
    }
   ],
   "source": [
    "from sklearn.ensemble import RandomForestClassifier\n",
    "from sklearn.metrics import accuracy_score\n",
    "\n",
    "# Train Random Forest model\n",
    "rf_model = RandomForestClassifier(\n",
    "    n_estimators=200,\n",
    "    max_depth=None,\n",
    "    min_samples_split=2,\n",
    "    min_samples_leaf=1,\n",
    "    class_weight='balanced',\n",
    "    random_state=42,\n",
    "    n_jobs=-1\n",
    ")\n",
    "\n",
    "rf_model.fit(X_train_resampled, y_train_resampled)\n",
    "y_pred_rf = rf_model.predict(X_test_scaled)\n",
    "rf_accuracy = accuracy_score(y_test, y_pred_rf)\n",
    "print(f\"\\nRandom Forest Accuracy: {rf_accuracy:.4f}\")"
   ]
  },
  {
   "cell_type": "code",
   "execution_count": 35,
   "metadata": {},
   "outputs": [
    {
     "name": "stdout",
     "output_type": "stream",
     "text": [
      "Gradient Boosting Accuracy: 0.1444\n"
     ]
    }
   ],
   "source": [
    "from sklearn.ensemble import GradientBoostingClassifier\n",
    "\n",
    "\n",
    "# Train Gradient Boosting model\n",
    "gb_model = GradientBoostingClassifier(\n",
    "    n_estimators=200,\n",
    "    learning_rate=0.1,\n",
    "    max_depth=5,\n",
    "    random_state=42\n",
    ")\n",
    "\n",
    "gb_model.fit(X_train_resampled, y_train_resampled)\n",
    "y_pred_gb = gb_model.predict(X_test_scaled)\n",
    "gb_accuracy = accuracy_score(y_test, y_pred_gb)\n",
    "print(f\"Gradient Boosting Accuracy: {gb_accuracy:.4f}\")"
   ]
  },
  {
   "cell_type": "code",
   "execution_count": 36,
   "metadata": {},
   "outputs": [
    {
     "name": "stdout",
     "output_type": "stream",
     "text": [
      "\n",
      "Detailed Classification Report for Random Forest:\n",
      "              precision    recall  f1-score   support\n",
      "\n",
      "    10-26-26       0.14      0.13      0.14       226\n",
      "    14-35-14       0.15      0.16      0.16       238\n",
      "    17-17-17       0.10      0.10      0.10       225\n",
      "       20-20       0.15      0.15      0.15       220\n",
      "       28-28       0.18      0.19      0.18       224\n",
      "         DAP       0.16      0.14      0.15       233\n",
      "        Urea       0.14      0.14      0.14       234\n",
      "\n",
      "    accuracy                           0.14      1600\n",
      "   macro avg       0.15      0.14      0.14      1600\n",
      "weighted avg       0.15      0.14      0.14      1600\n",
      "\n"
     ]
    }
   ],
   "source": [
    "from sklearn.metrics import classification_report\n",
    "\n",
    "# Choose the better model\n",
    "better_model = gb_model if gb_accuracy > rf_accuracy else rf_model\n",
    "better_pred = y_pred_gb if gb_accuracy > rf_accuracy else y_pred_rf\n",
    "better_name = \"Gradient Boosting\" if gb_accuracy > rf_accuracy else \"Random Forest\"\n",
    "\n",
    "print(f\"\\nDetailed Classification Report for {better_name}:\")\n",
    "print(classification_report(y_test, better_pred, target_names=le.classes_))\n"
   ]
  },
  {
   "cell_type": "code",
   "execution_count": 38,
   "metadata": {},
   "outputs": [
    {
     "data": {
      "image/png": "[encoded data removed]",
      "text/plain": [
       "<Figure size 1000x800 with 2 Axes>"
      ]
     },
     "metadata": {},
     "output_type": "display_data"
    }
   ],
   "source": [
    "from sklearn.metrics import confusion_matrix\n",
    "\n",
    "# Confusion matrix\n",
    "plt.figure(figsize=(10, 8))\n",
    "cm = confusion_matrix(y_test, better_pred)\n",
    "sns.heatmap(cm, annot=True, fmt='d', cmap='Blues', \n",
    "            xticklabels=le.classes_, yticklabels=le.classes_)\n",
    "plt.xlabel('Predicted')\n",
    "plt.ylabel('Actual')\n",
    "plt.title(f'Confusion Matrix - {better_name}')\n",
    "plt.xticks(rotation=45)\n",
    "plt.yticks(rotation=0)\n",
    "plt.tight_layout()\n",
    "plt.show()"
   ]
  },
  {
   "cell_type": "code",
   "execution_count": 39,
   "metadata": {},
   "outputs": [
    {
     "data": {
      "image/png": "[encoded data removed]",
      "text/plain": [
       "<Figure size 1200x800 with 1 Axes>"
      ]
     },
     "metadata": {},
     "output_type": "display_data"
    }
   ],
   "source": [
    "import numpy as np\n",
    "\n",
    "# Feature importance analysis\n",
    "feature_importance = better_model.feature_importances_\n",
    "sorted_idx = np.argsort(feature_importance)[::-1]\n",
    "sorted_features = np.array(X.columns)[sorted_idx]\n",
    "\n",
    "plt.figure(figsize=(12, 8))\n",
    "plt.title(f'Feature Importance for Fertilizer Prediction ({better_name})')\n",
    "plt.barh(range(15), feature_importance[sorted_idx[:15]], align='center')\n",
    "plt.yticks(range(15), sorted_features[:15])\n",
    "plt.xlabel('Importance')\n",
    "plt.tight_layout()\n",
    "plt.show()"
   ]
  },
  {
   "cell_type": "code",
   "execution_count": 40,
   "metadata": {},
   "outputs": [
    {
     "name": "stdout",
     "output_type": "stream",
     "text": [
      "\n",
      "Performing hyperparameter tuning for Random Forest...\n",
      "Fitting 5 folds for each of 36 candidates, totalling 180 fits\n",
      "Best parameters: {'max_depth': 20, 'min_samples_leaf': 1, 'min_samples_split': 2, 'n_estimators': 300}\n",
      "Best cross-validation score: 0.1877\n"
     ]
    }
   ],
   "source": [
    "from sklearn.model_selection import GridSearchCV\n",
    "\n",
    "# Hyperparameter tuning with cross-validation\n",
    "if better_name == \"Random Forest\":\n",
    "    param_grid = {\n",
    "        'n_estimators': [100, 200, 300],\n",
    "        'max_depth': [None, 10, 20],\n",
    "        'min_samples_split': [2, 5],\n",
    "        'min_samples_leaf': [1, 2]\n",
    "    }\n",
    "    model_to_tune = RandomForestClassifier(class_weight='balanced', random_state=42)\n",
    "else:\n",
    "    param_grid = {\n",
    "        'n_estimators': [100, 200, 300],\n",
    "        'learning_rate': [0.05, 0.1, 0.2],\n",
    "        'max_depth': [3, 5, 7]\n",
    "    }\n",
    "    model_to_tune = GradientBoostingClassifier(random_state=42)\n",
    "\n",
    "print(f\"\\nPerforming hyperparameter tuning for {better_name}...\")\n",
    "grid_search = GridSearchCV(\n",
    "    model_to_tune, param_grid, cv=5, scoring='accuracy', n_jobs=-1, verbose=1\n",
    ")\n",
    "grid_search.fit(X_train_resampled, y_train_resampled)\n",
    "\n",
    "print(f\"Best parameters: {grid_search.best_params_}\")\n",
    "print(f\"Best cross-validation score: {grid_search.best_score_:.4f}\")\n"
   ]
  },
  {
   "cell_type": "code",
   "execution_count": 41,
   "metadata": {},
   "outputs": [
    {
     "name": "stdout",
     "output_type": "stream",
     "text": [
      "\n",
      "Best Random Forest Model Accuracy: 0.1487\n"
     ]
    }
   ],
   "source": [
    "# Test the best model\n",
    "best_model = grid_search.best_estimator_\n",
    "y_pred_best = best_model.predict(X_test_scaled)\n",
    "best_accuracy = accuracy_score(y_test, y_pred_best)\n",
    "print(f\"\\nBest {better_name} Model Accuracy: {best_accuracy:.4f}\")\n"
   ]
  },
  {
   "cell_type": "code",
   "execution_count": 42,
   "metadata": {},
   "outputs": [
    {
     "name": "stdout",
     "output_type": "stream",
     "text": [
      "\n",
      "Final Classification Report with the Best Model:\n",
      "              precision    recall  f1-score   support\n",
      "\n",
      "    10-26-26       0.17      0.16      0.17       226\n",
      "    14-35-14       0.14      0.14      0.14       238\n",
      "    17-17-17       0.10      0.10      0.10       225\n",
      "       20-20       0.15      0.16      0.16       220\n",
      "       28-28       0.18      0.19      0.19       224\n",
      "         DAP       0.16      0.16      0.16       233\n",
      "        Urea       0.13      0.13      0.13       234\n",
      "\n",
      "    accuracy                           0.15      1600\n",
      "   macro avg       0.15      0.15      0.15      1600\n",
      "weighted avg       0.15      0.15      0.15      1600\n",
      "\n"
     ]
    }
   ],
   "source": [
    "# Final classification report with the best model\n",
    "print(\"\\nFinal Classification Report with the Best Model:\")\n",
    "print(classification_report(y_test, y_pred_best, target_names=le.classes_))\n"
   ]
  },
  {
   "cell_type": "code",
   "execution_count": 43,
   "metadata": {},
   "outputs": [],
   "source": [
    "# Feature engineering: Create more domain-specific features\n",
    "X_engineered = X.copy()"
   ]
  },
  {
   "cell_type": "code",
   "execution_count": 44,
   "metadata": {},
   "outputs": [],
   "source": [
    "# For numerical columns\n",
    "numeric_cols = ['Temparature', 'Humidity', 'Moisture', 'Nitrogen', 'Potassium', 'Phosphorous']\n",
    "\n",
    "# Create NPK ratio features\n",
    "X_engineered['N_P_ratio'] = df['Nitrogen'] / (df['Phosphorous'] + 0.1) \n",
    "X_engineered['N_K_ratio'] = df['Nitrogen'] / (df['Potassium'] + 0.1)\n",
    "X_engineered['P_K_ratio'] = df['Phosphorous'] / (df['Potassium'] + 0.1)\n",
    "X_engineered['NPK_sum'] = df['Nitrogen'] + df['Phosphorous'] + df['Potassium']\n",
    "X_engineered['NK_product'] = df['Nitrogen'] * df['Potassium']\n",
    "X_engineered['NP_product'] = df['Nitrogen'] * df['Phosphorous']"
   ]
  },
  {
   "cell_type": "code",
   "execution_count": 45,
   "metadata": {},
   "outputs": [],
   "source": [
    "# Train-test split with the engineered features\n",
    "X_train_eng, X_test_eng, y_train_eng, y_test_eng = train_test_split(\n",
    "    X_engineered, y_encoded, test_size=0.2, random_state=42, stratify=y_encoded\n",
    ")"
   ]
  },
  {
   "cell_type": "code",
   "execution_count": 46,
   "metadata": {},
   "outputs": [],
   "source": [
    "# Scale the features\n",
    "scaler_eng = StandardScaler()\n",
    "X_train_eng_scaled = scaler_eng.fit_transform(X_train_eng)\n",
    "X_test_eng_scaled = scaler_eng.transform(X_test_eng)"
   ]
  },
  {
   "cell_type": "code",
   "execution_count": 47,
   "metadata": {},
   "outputs": [],
   "source": [
    "# Apply SMOTE\n",
    "X_train_eng_resampled, y_train_eng_resampled = smote.fit_resample(X_train_eng_scaled, y_train_eng)"
   ]
  },
  {
   "cell_type": "code",
   "execution_count": 48,
   "metadata": {},
   "outputs": [],
   "source": [
    "\n",
    "# Train model with engineered features\n",
    "best_model_eng = RandomForestClassifier(\n",
    "    **grid_search.best_params_,\n",
    "    class_weight='balanced',\n",
    "    random_state=42,\n",
    "    n_jobs=-1\n",
    ") if better_name == \"Random Forest\" else GradientBoostingClassifier(\n",
    "    **grid_search.best_params_,\n",
    "    random_state=42\n",
    ")"
   ]
  },
  {
   "cell_type": "code",
   "execution_count": 49,
   "metadata": {},
   "outputs": [
    {
     "name": "stdout",
     "output_type": "stream",
     "text": [
      "\n",
      "Model with Feature Engineering Accuracy: 0.1475\n"
     ]
    }
   ],
   "source": [
    "best_model_eng.fit(X_train_eng_resampled, y_train_eng_resampled)\n",
    "y_pred_eng = best_model_eng.predict(X_test_eng_scaled)\n",
    "eng_accuracy = accuracy_score(y_test_eng, y_pred_eng)\n",
    "print(f\"\\nModel with Feature Engineering Accuracy: {eng_accuracy:.4f}\")"
   ]
  },
  {
   "cell_type": "markdown",
   "metadata": {},
   "source": [
    "So as we can see, when trying to predict fertilizer, we get accuracy of 14% which is pretty low. Therefore we can assume that there is a  problem with dataset. \n",
    "\n",
    "Why This Is Happening\n",
    "1. Feature Overlap Between Crops: Multiple crops can grow successfully in very similar soil conditions - your data confirms this. The boxplots and feature importance show high overlap in soil parameters across different crops.\n",
    "\n",
    "2. Missing Critical Information: Many crucial factors that determine crop selection are missing from your dataset:\n",
    "\n",
    " - Growing season/seasonality\n",
    " - Historical cropping patterns\n",
    " - Economic factors (crop prices, market demand)\n",
    " - Farmer preferences\n",
    " - Regional agricultural practices\n",
    " - Water availability beyond just moisture\n",
    "\n",
    " 3. Missing Interaction Effects: Crops often depend on complex interactions between climate, soil, and management practices that simple feature engineering can't capture.\n",
    "\n",
    "So, let's try a different dataset with crop and soil data."
   ]
  }
 ],
 "metadata": {
  "kernelspec": {
   "display_name": "ml",
   "language": "python",
   "name": "python3"
  },
  "language_info": {
   "codemirror_mode": {
    "name": "ipython",
    "version": 3
   },
   "file_extension": ".py",
   "mimetype": "text/x-python",
   "name": "python",
   "nbconvert_exporter": "python",
   "pygments_lexer": "ipython3",
   "version": "3.11.5"
  }
 },
 "nbformat": 4,
 "nbformat_minor": 2
}
