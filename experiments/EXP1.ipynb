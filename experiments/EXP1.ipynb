{
 "cells": [
  {
   "cell_type": "markdown",
   "id": "9f06f266-422e-4dd9-94d3-0e10546e09ac",
   "metadata": {},
   "source": [
    "# Pohora.LK - Machine Learning for Fertilizer Recommendation\n",
    "\n",
    "The **Pohora.LK** project uses machine learning to tackle a common agricultural problem - deciding which fertilizer must be applied to a crop, based on different variable factors and environmental conditions, such as soil nitrogen content, humidity etc.\n",
    "\n",
    "This notebook will dive into a dataset available on [Kaggle](https://www.kaggle.com/datasets/shankarpriya2913/crop-and-soil-dataset), and use it to train a machine learning model that can be part of a larger application for farmers and agriculturists to use."
   ]
  },
  {
   "cell_type": "markdown",
   "id": "98149ecd-282c-480c-8611-a85196dbb074",
   "metadata": {},
   "source": [
    "## 1. Getting Started\n",
    "\n",
    "This notebook uses the following dependencies:\n",
    "\n",
    "1. Jupyter - to run the notebook\n",
    "2. Scikit-Learn - to build, train and evaluate machine learning models\n",
    "3. NumPy - to handle numerical computations in the data\n",
    "4. Pandas - to load and manipulate the data as required\n",
    "5. Matplotlib - to perform various visualizations on the data\n",
    "\n",
    "These dependencies can be installed with:\n",
    "\n",
    "```sh\n",
    "pip install jupyter scikit-learn numpy pandas matplotlib\n",
    "```\n",
    "\n",
    "**NOTE**: it is recommended to create a Python virtual environment in your project folder before installing the above.\n",
    "\n",
    "After installing the above dependencies, use the following command to start a Jupyter server and run this notebook:\n",
    "\n",
    "```sh\n",
    "jupyter notebook\n",
    "\n",
    "# or\n",
    "\n",
    "python -m jupyter notebook\n",
    "```"
   ]
  },
  {
   "cell_type": "code",
   "execution_count": 1,
   "id": "059e2310-e6cb-437c-8adc-c9ff2ed92b16",
   "metadata": {},
   "outputs": [],
   "source": [
    "# Import dependencies\n",
    "\n",
    "import sklearn\n",
    "import numpy as np\n",
    "import pandas as pd\n",
    "import matplotlib.pyplot as plt"
   ]
  },
  {
   "cell_type": "markdown",
   "id": "9de25e91-ce5d-4d94-ad49-7cd599d05c7e",
   "metadata": {},
   "source": [
    "Next, we can load the dataset from the CSV file as a Pandas **dataframe**."
   ]
  },
  {
   "cell_type": "code",
   "execution_count": 2,
   "id": "53423ed5-7bca-457b-be29-12d480cd8aa2",
   "metadata": {},
   "outputs": [
    {
     "data": {
      "text/html": [
       "<div>\n",
       "<style scoped>\n",
       "    .dataframe tbody tr th:only-of-type {\n",
       "        vertical-align: middle;\n",
       "    }\n",
       "\n",
       "    .dataframe tbody tr th {\n",
       "        vertical-align: top;\n",
       "    }\n",
       "\n",
       "    .dataframe thead th {\n",
       "        text-align: right;\n",
       "    }\n",
       "</style>\n",
       "<table border=\"1\" class=\"dataframe\">\n",
       "  <thead>\n",
       "    <tr style=\"text-align: right;\">\n",
       "      <th></th>\n",
       "      <th>Temparature</th>\n",
       "      <th>Humidity</th>\n",
       "      <th>Moisture</th>\n",
       "      <th>Soil Type</th>\n",
       "      <th>Crop Type</th>\n",
       "      <th>Nitrogen</th>\n",
       "      <th>Potassium</th>\n",
       "      <th>Phosphorous</th>\n",
       "      <th>Fertilizer Name</th>\n",
       "    </tr>\n",
       "  </thead>\n",
       "  <tbody>\n",
       "    <tr>\n",
       "      <th>0</th>\n",
       "      <td>26.0</td>\n",
       "      <td>52.0</td>\n",
       "      <td>38.0</td>\n",
       "      <td>Sandy</td>\n",
       "      <td>Maize</td>\n",
       "      <td>37</td>\n",
       "      <td>0</td>\n",
       "      <td>0</td>\n",
       "      <td>Urea</td>\n",
       "    </tr>\n",
       "    <tr>\n",
       "      <th>1</th>\n",
       "      <td>29.0</td>\n",
       "      <td>52.0</td>\n",
       "      <td>45.0</td>\n",
       "      <td>Loamy</td>\n",
       "      <td>Sugarcane</td>\n",
       "      <td>12</td>\n",
       "      <td>0</td>\n",
       "      <td>36</td>\n",
       "      <td>DAP</td>\n",
       "    </tr>\n",
       "    <tr>\n",
       "      <th>2</th>\n",
       "      <td>34.0</td>\n",
       "      <td>65.0</td>\n",
       "      <td>62.0</td>\n",
       "      <td>Black</td>\n",
       "      <td>Cotton</td>\n",
       "      <td>7</td>\n",
       "      <td>9</td>\n",
       "      <td>30</td>\n",
       "      <td>14-35-14</td>\n",
       "    </tr>\n",
       "    <tr>\n",
       "      <th>3</th>\n",
       "      <td>32.0</td>\n",
       "      <td>62.0</td>\n",
       "      <td>34.0</td>\n",
       "      <td>Red</td>\n",
       "      <td>Tobacco</td>\n",
       "      <td>22</td>\n",
       "      <td>0</td>\n",
       "      <td>20</td>\n",
       "      <td>28-28</td>\n",
       "    </tr>\n",
       "    <tr>\n",
       "      <th>4</th>\n",
       "      <td>28.0</td>\n",
       "      <td>54.0</td>\n",
       "      <td>46.0</td>\n",
       "      <td>Clayey</td>\n",
       "      <td>Paddy</td>\n",
       "      <td>35</td>\n",
       "      <td>0</td>\n",
       "      <td>0</td>\n",
       "      <td>Urea</td>\n",
       "    </tr>\n",
       "  </tbody>\n",
       "</table>\n",
       "</div>"
      ],
      "text/plain": [
       "   Temparature  Humidity  Moisture Soil Type  Crop Type  Nitrogen  Potassium  \\\n",
       "0         26.0      52.0      38.0     Sandy      Maize        37          0   \n",
       "1         29.0      52.0      45.0     Loamy  Sugarcane        12          0   \n",
       "2         34.0      65.0      62.0     Black     Cotton         7          9   \n",
       "3         32.0      62.0      34.0       Red    Tobacco        22          0   \n",
       "4         28.0      54.0      46.0    Clayey      Paddy        35          0   \n",
       "\n",
       "   Phosphorous Fertilizer Name  \n",
       "0            0            Urea  \n",
       "1           36             DAP  \n",
       "2           30        14-35-14  \n",
       "3           20           28-28  \n",
       "4            0            Urea  "
      ]
     },
     "execution_count": 2,
     "metadata": {},
     "output_type": "execute_result"
    }
   ],
   "source": [
    "# Load data from CSV file into a dataframe named `df`\n",
    "df = pd.read_csv(\"../data/fertilizer.csv\")\n",
    "\n",
    "# Inspect the first 5 elements (a.k.a the head) of the dataframe\n",
    "df.head()"
   ]
  },
  {
   "cell_type": "markdown",
   "id": "8bfb142a-6ad5-444c-9655-f17ff65fb57e",
   "metadata": {},
   "source": [
    "At a glance, we can see that the dataset contains the following columns of data:\n",
    "\n",
    "1. **Temparature** - the surrounding temperature of the crop (feature variable)\n",
    "2. **Humidity** - the surrounding humidity of the crop (feature variable)\n",
    "3. **Moisture** - the moisture in the crop's soil (feature variable)\n",
    "4. **Soil Type** - the type of soil the crop has been planted in (feature variable)\n",
    "5. **Crop Type** - the type of crop planted (feature variable)\n",
    "6. **Nitrogen** - the nitrogen content of the soil (feature variable)\n",
    "7. **Potassium** - the potassium content of the soil (feature variable)\n",
    "8. **Phosphorous** - the phosphorous content of the soil (feature variable)\n",
    "9. **Fertilizer Name** - the name of the fertilizer recommended for the application (target variable)"
   ]
  },
  {
   "cell_type": "markdown",
   "id": "62388e35-6c60-4e51-b61c-e9abe6b82c95",
   "metadata": {},
   "source": [
    "Before we begin analyzing the dataset, we'll first rename the `Temparature` column to fix the typo in it."
   ]
  },
  {
   "cell_type": "code",
   "execution_count": 3,
   "id": "3c688c74-add5-4824-a5b3-6b3d74c5db48",
   "metadata": {},
   "outputs": [
    {
     "data": {
      "text/html": [
       "<div>\n",
       "<style scoped>\n",
       "    .dataframe tbody tr th:only-of-type {\n",
       "        vertical-align: middle;\n",
       "    }\n",
       "\n",
       "    .dataframe tbody tr th {\n",
       "        vertical-align: top;\n",
       "    }\n",
       "\n",
       "    .dataframe thead th {\n",
       "        text-align: right;\n",
       "    }\n",
       "</style>\n",
       "<table border=\"1\" class=\"dataframe\">\n",
       "  <thead>\n",
       "    <tr style=\"text-align: right;\">\n",
       "      <th></th>\n",
       "      <th>Temperature</th>\n",
       "      <th>Humidity</th>\n",
       "      <th>Moisture</th>\n",
       "      <th>Soil Type</th>\n",
       "      <th>Crop Type</th>\n",
       "      <th>Nitrogen</th>\n",
       "      <th>Potassium</th>\n",
       "      <th>Phosphorous</th>\n",
       "      <th>Fertilizer Name</th>\n",
       "    </tr>\n",
       "  </thead>\n",
       "  <tbody>\n",
       "    <tr>\n",
       "      <th>0</th>\n",
       "      <td>26.0</td>\n",
       "      <td>52.0</td>\n",
       "      <td>38.0</td>\n",
       "      <td>Sandy</td>\n",
       "      <td>Maize</td>\n",
       "      <td>37</td>\n",
       "      <td>0</td>\n",
       "      <td>0</td>\n",
       "      <td>Urea</td>\n",
       "    </tr>\n",
       "    <tr>\n",
       "      <th>1</th>\n",
       "      <td>29.0</td>\n",
       "      <td>52.0</td>\n",
       "      <td>45.0</td>\n",
       "      <td>Loamy</td>\n",
       "      <td>Sugarcane</td>\n",
       "      <td>12</td>\n",
       "      <td>0</td>\n",
       "      <td>36</td>\n",
       "      <td>DAP</td>\n",
       "    </tr>\n",
       "    <tr>\n",
       "      <th>2</th>\n",
       "      <td>34.0</td>\n",
       "      <td>65.0</td>\n",
       "      <td>62.0</td>\n",
       "      <td>Black</td>\n",
       "      <td>Cotton</td>\n",
       "      <td>7</td>\n",
       "      <td>9</td>\n",
       "      <td>30</td>\n",
       "      <td>14-35-14</td>\n",
       "    </tr>\n",
       "    <tr>\n",
       "      <th>3</th>\n",
       "      <td>32.0</td>\n",
       "      <td>62.0</td>\n",
       "      <td>34.0</td>\n",
       "      <td>Red</td>\n",
       "      <td>Tobacco</td>\n",
       "      <td>22</td>\n",
       "      <td>0</td>\n",
       "      <td>20</td>\n",
       "      <td>28-28</td>\n",
       "    </tr>\n",
       "    <tr>\n",
       "      <th>4</th>\n",
       "      <td>28.0</td>\n",
       "      <td>54.0</td>\n",
       "      <td>46.0</td>\n",
       "      <td>Clayey</td>\n",
       "      <td>Paddy</td>\n",
       "      <td>35</td>\n",
       "      <td>0</td>\n",
       "      <td>0</td>\n",
       "      <td>Urea</td>\n",
       "    </tr>\n",
       "  </tbody>\n",
       "</table>\n",
       "</div>"
      ],
      "text/plain": [
       "   Temperature  Humidity  Moisture Soil Type  Crop Type  Nitrogen  Potassium  \\\n",
       "0         26.0      52.0      38.0     Sandy      Maize        37          0   \n",
       "1         29.0      52.0      45.0     Loamy  Sugarcane        12          0   \n",
       "2         34.0      65.0      62.0     Black     Cotton         7          9   \n",
       "3         32.0      62.0      34.0       Red    Tobacco        22          0   \n",
       "4         28.0      54.0      46.0    Clayey      Paddy        35          0   \n",
       "\n",
       "   Phosphorous Fertilizer Name  \n",
       "0            0            Urea  \n",
       "1           36             DAP  \n",
       "2           30        14-35-14  \n",
       "3           20           28-28  \n",
       "4            0            Urea  "
      ]
     },
     "execution_count": 3,
     "metadata": {},
     "output_type": "execute_result"
    }
   ],
   "source": [
    "# Fix typo in `Temparature` column\n",
    "df.rename(\n",
    "    columns={\"Temparature\": \"Temperature\"},\n",
    "    errors=\"raise\",\n",
    "    inplace=True,\n",
    ")\n",
    "\n",
    "df.head()"
   ]
  },
  {
   "cell_type": "markdown",
   "id": "5bd50483-3080-4815-a9a1-cee7d8e5fc5f",
   "metadata": {},
   "source": [
    "Now, we can get started with **Exploratory Data Analysis (EDA)**."
   ]
  },
  {
   "cell_type": "markdown",
   "id": "ac589b97-f96a-4ac1-9833-1fe3d036ea72",
   "metadata": {},
   "source": [
    "## 2. Exploratory Data Analysis\n",
    "\n",
    "Here, we will inspect the dataset in close detail, to check for skewness, missing values and more."
   ]
  },
  {
   "cell_type": "markdown",
   "id": "aedb3f24-c7e5-4a17-950a-beb0db6fcdc8",
   "metadata": {},
   "source": [
    "First, we'll retrieve an overview of the complete dataset using `df.info()`."
   ]
  },
  {
   "cell_type": "code",
   "execution_count": 4,
   "id": "7eb293b1-ed86-4958-9607-906e2a68290c",
   "metadata": {},
   "outputs": [
    {
     "name": "stdout",
     "output_type": "stream",
     "text": [
      "<class 'pandas.core.frame.DataFrame'>\n",
      "RangeIndex: 8000 entries, 0 to 7999\n",
      "Data columns (total 9 columns):\n",
      " #   Column           Non-Null Count  Dtype  \n",
      "---  ------           --------------  -----  \n",
      " 0   Temperature      8000 non-null   float64\n",
      " 1   Humidity         8000 non-null   float64\n",
      " 2   Moisture         8000 non-null   float64\n",
      " 3   Soil Type        8000 non-null   object \n",
      " 4   Crop Type        8000 non-null   object \n",
      " 5   Nitrogen         8000 non-null   int64  \n",
      " 6   Potassium        8000 non-null   int64  \n",
      " 7   Phosphorous      8000 non-null   int64  \n",
      " 8   Fertilizer Name  8000 non-null   object \n",
      "dtypes: float64(3), int64(3), object(3)\n",
      "memory usage: 562.6+ KB\n"
     ]
    }
   ],
   "source": [
    "# Get overview of dataset\n",
    "df.info()"
   ]
  },
  {
   "cell_type": "markdown",
   "id": "477a0e8c-eb09-46b0-a5db-cfcf186732c9",
   "metadata": {},
   "source": [
    "We can also get a statistical summary of the dataset using `df.describe()` to get an idea of the statistical properties (mean, standard deviation etc.) for each variable in the dataset."
   ]
  },
  {
   "cell_type": "code",
   "execution_count": 5,
   "id": "cd4709ab-0d9d-4dbf-9609-c1bb09f46faa",
   "metadata": {},
   "outputs": [
    {
     "data": {
      "text/html": [
       "<div>\n",
       "<style scoped>\n",
       "    .dataframe tbody tr th:only-of-type {\n",
       "        vertical-align: middle;\n",
       "    }\n",
       "\n",
       "    .dataframe tbody tr th {\n",
       "        vertical-align: top;\n",
       "    }\n",
       "\n",
       "    .dataframe thead th {\n",
       "        text-align: right;\n",
       "    }\n",
       "</style>\n",
       "<table border=\"1\" class=\"dataframe\">\n",
       "  <thead>\n",
       "    <tr style=\"text-align: right;\">\n",
       "      <th></th>\n",
       "      <th>Temperature</th>\n",
       "      <th>Humidity</th>\n",
       "      <th>Moisture</th>\n",
       "      <th>Nitrogen</th>\n",
       "      <th>Potassium</th>\n",
       "      <th>Phosphorous</th>\n",
       "    </tr>\n",
       "  </thead>\n",
       "  <tbody>\n",
       "    <tr>\n",
       "      <th>count</th>\n",
       "      <td>8000.000000</td>\n",
       "      <td>8000.000000</td>\n",
       "      <td>8000.000000</td>\n",
       "      <td>8000.000000</td>\n",
       "      <td>8000.000000</td>\n",
       "      <td>8000.000000</td>\n",
       "    </tr>\n",
       "    <tr>\n",
       "      <th>mean</th>\n",
       "      <td>30.338895</td>\n",
       "      <td>59.210731</td>\n",
       "      <td>43.580862</td>\n",
       "      <td>18.429125</td>\n",
       "      <td>3.916375</td>\n",
       "      <td>18.512500</td>\n",
       "    </tr>\n",
       "    <tr>\n",
       "      <th>std</th>\n",
       "      <td>4.478262</td>\n",
       "      <td>8.177366</td>\n",
       "      <td>12.596156</td>\n",
       "      <td>11.852406</td>\n",
       "      <td>5.494807</td>\n",
       "      <td>13.244113</td>\n",
       "    </tr>\n",
       "    <tr>\n",
       "      <th>min</th>\n",
       "      <td>20.000000</td>\n",
       "      <td>40.020000</td>\n",
       "      <td>20.000000</td>\n",
       "      <td>0.000000</td>\n",
       "      <td>0.000000</td>\n",
       "      <td>0.000000</td>\n",
       "    </tr>\n",
       "    <tr>\n",
       "      <th>25%</th>\n",
       "      <td>27.050000</td>\n",
       "      <td>53.277500</td>\n",
       "      <td>33.967500</td>\n",
       "      <td>9.000000</td>\n",
       "      <td>0.000000</td>\n",
       "      <td>8.000000</td>\n",
       "    </tr>\n",
       "    <tr>\n",
       "      <th>50%</th>\n",
       "      <td>30.240000</td>\n",
       "      <td>59.110000</td>\n",
       "      <td>42.250000</td>\n",
       "      <td>14.000000</td>\n",
       "      <td>1.000000</td>\n",
       "      <td>18.000000</td>\n",
       "    </tr>\n",
       "    <tr>\n",
       "      <th>75%</th>\n",
       "      <td>33.460000</td>\n",
       "      <td>65.082500</td>\n",
       "      <td>52.950000</td>\n",
       "      <td>26.000000</td>\n",
       "      <td>5.000000</td>\n",
       "      <td>30.000000</td>\n",
       "    </tr>\n",
       "    <tr>\n",
       "      <th>max</th>\n",
       "      <td>40.000000</td>\n",
       "      <td>80.000000</td>\n",
       "      <td>70.000000</td>\n",
       "      <td>46.000000</td>\n",
       "      <td>23.000000</td>\n",
       "      <td>46.000000</td>\n",
       "    </tr>\n",
       "  </tbody>\n",
       "</table>\n",
       "</div>"
      ],
      "text/plain": [
       "       Temperature     Humidity     Moisture     Nitrogen    Potassium  \\\n",
       "count  8000.000000  8000.000000  8000.000000  8000.000000  8000.000000   \n",
       "mean     30.338895    59.210731    43.580862    18.429125     3.916375   \n",
       "std       4.478262     8.177366    12.596156    11.852406     5.494807   \n",
       "min      20.000000    40.020000    20.000000     0.000000     0.000000   \n",
       "25%      27.050000    53.277500    33.967500     9.000000     0.000000   \n",
       "50%      30.240000    59.110000    42.250000    14.000000     1.000000   \n",
       "75%      33.460000    65.082500    52.950000    26.000000     5.000000   \n",
       "max      40.000000    80.000000    70.000000    46.000000    23.000000   \n",
       "\n",
       "       Phosphorous  \n",
       "count  8000.000000  \n",
       "mean     18.512500  \n",
       "std      13.244113  \n",
       "min       0.000000  \n",
       "25%       8.000000  \n",
       "50%      18.000000  \n",
       "75%      30.000000  \n",
       "max      46.000000  "
      ]
     },
     "execution_count": 5,
     "metadata": {},
     "output_type": "execute_result"
    }
   ],
   "source": [
    "# Get statistical summary of dataset\n",
    "df.describe()"
   ]
  },
  {
   "cell_type": "markdown",
   "id": "3067c1f1-f64a-41df-b1a1-1a5dac65995e",
   "metadata": {},
   "source": [
    "From the above overview, we can clearly see that there are **8000 samples** in the dataset, and none of the columns have any null values, which can be confirmed further."
   ]
  },
  {
   "cell_type": "code",
   "execution_count": 17,
   "id": "99f60572-b048-4867-a9c0-ee5d5786b61f",
   "metadata": {},
   "outputs": [
    {
     "name": "stdout",
     "output_type": "stream",
     "text": [
      "Number of null values in Temperature column: 0\n",
      "Number of null values in Humidity column: 0\n",
      "Number of null values in Moisture column: 0\n",
      "Number of null values in Soil Type column: 0\n",
      "Number of null values in Crop Type column: 0\n",
      "Number of null values in Nitrogen column: 0\n",
      "Number of null values in Potassium column: 0\n",
      "Number of null values in Phosphorous column: 0\n",
      "Number of null values in Fertilizer Name column: 0\n"
     ]
    }
   ],
   "source": [
    "# Confirm absence of missing values in data\n",
    "\n",
    "# Iterate over each column of the dataframe\n",
    "for column in df.columns:\n",
    "    # Retrieve null count for particular column\n",
    "    null_count = df[column].isnull().sum()\n",
    "\n",
    "    # Display result\n",
    "    print(f\"Number of null values in {column} column: {null_count}\")"
   ]
  },
  {
   "cell_type": "markdown",
   "id": "16134d67-11fb-49d9-bf41-45a50c6a4d2d",
   "metadata": {},
   "source": [
    "Thus, we don't have to worry about handling missing values in our data."
   ]
  },
  {
   "cell_type": "markdown",
   "id": "e22f15e5-e978-47d4-92cf-c4c3cb3e9283",
   "metadata": {},
   "source": [
    "Next, let's inspect the columns having `object` data type, i.e.\n",
    "\n",
    "1. Soil Type\n",
    "2. Crop Type\n",
    "3. Fertilizer\n",
    "\n",
    "To see what unique values they have, by using the `unique()` method."
   ]
  },
  {
   "cell_type": "code",
   "execution_count": 16,
   "id": "0c703faf-452f-4c1c-be50-cf0b60d8d9ab",
   "metadata": {},
   "outputs": [
    {
     "name": "stdout",
     "output_type": "stream",
     "text": [
      "Unique values of Soil Type column: ['Sandy' 'Loamy' 'Black' 'Red' 'Clayey']\n",
      "Unique values of Crop Type column: ['Maize' 'Sugarcane' 'Cotton' 'Tobacco' 'Paddy' 'Barley' 'Wheat' 'Millets'\n",
      " 'Oil seeds' 'Pulses' 'Ground Nuts']\n",
      "Unique values of Fertilizer Name column: ['Urea' 'DAP' '14-35-14' '28-28' '17-17-17' '20-20' '10-26-26']\n"
     ]
    }
   ],
   "source": [
    "# Check unique values of categorical data\n",
    "\n",
    "# Iterate over each column of the dataframe\n",
    "for column in df.columns:\n",
    "    if df[column].dtype == \"object\":\n",
    "        # Retrieve list of unique values for particular column\n",
    "        unique_values = df[column].unique()\n",
    "    \n",
    "        # Display result\n",
    "        print(f\"Unique values of {column} column: {unique_values}\")"
   ]
  },
  {
   "cell_type": "markdown",
   "id": "f61f4a3e-6219-4806-879b-bbb65ec5844c",
   "metadata": {},
   "source": [
    "Next, we can start visualizing the data. This can help us identify skewness, class imbalances etc. in our dataset."
   ]
  },
  {
   "cell_type": "code",
   "execution_count": 42,
   "id": "93f482ad-5cee-4d03-8f50-d9cd6a6ed5ee",
   "metadata": {},
   "outputs": [
    {
     "data": {
      "image/png": "[encoded data removed]",
      "text/plain": [
       "<Figure size 1000x1500 with 6 Axes>"
      ]
     },
     "metadata": {},
     "output_type": "display_data"
    }
   ],
   "source": [
    "# Draw histograms for continuous data in dataset\n",
    "df.hist(\n",
    "    figsize=(10,15),\n",
    "    bins=15,\n",
    ")\n",
    "\n",
    "plt.show()"
   ]
  },
  {
   "cell_type": "markdown",
   "id": "9867a00f-bf1d-4275-80ba-67e41140a11c",
   "metadata": {},
   "source": [
    "Additionally, we can also check for **class imbalances** similarly using a histogram of the target variable `Fertilizer Name`."
   ]
  },
  {
   "cell_type": "code",
   "execution_count": 41,
   "id": "4ab58dd1-15d4-4dab-9bea-9d6e13bc09a1",
   "metadata": {},
   "outputs": [
    {
     "data": {
      "image/png": "[encoded data removed]",
      "text/plain": [
       "<Figure size 640x480 with 1 Axes>"
      ]
     },
     "metadata": {},
     "output_type": "display_data"
    }
   ],
   "source": [
    "# Check for class imbalances via histogram\n",
    "df[\"Fertilizer Name\"].hist(\n",
    "    bins=15,\n",
    ")\n",
    "\n",
    "plt.show()"
   ]
  },
  {
   "cell_type": "markdown",
   "id": "121f3268-c10a-42d6-af37-c8c24f3328ff",
   "metadata": {},
   "source": [
    "Based on the above visualization, we can conclude that there doesn't seem to be any significant class imbalance in our dataset."
   ]
  },
  {
   "cell_type": "markdown",
   "id": "55d85e02-4293-4279-9e8b-3dc23038e2d3",
   "metadata": {},
   "source": [
    "Next, we can inspect our dataset's continuous variables (variables of data type `int64`, `float64` etc.) for outliers.\n",
    "\n",
    "For this, we can use the **inter-quartile range (IQR)**. The inter-quartile range is a common measure of statistical dispersion in datasets. It is the difference between the 25th percentile and 75th percentile of the data. It is used along with a **threshold value** (usually 1.5) to identify outliers outside a particular range, i.e. any value in the data that is either\n",
    "\n",
    "1. Under 1.5 * IQR below the 25th percentile, or\n",
    "2. Above 1.5 * IQR above the 75th percentile\n",
    "\n",
    "can be considered as an outlier."
   ]
  },
  {
   "cell_type": "code",
   "execution_count": 54,
   "id": "fee4f694-311c-46bb-907f-067176f3c9f8",
   "metadata": {},
   "outputs": [
    {
     "name": "stdout",
     "output_type": "stream",
     "text": [
      "Outliers for Temperature: 0\n",
      "Outliers for Humidity: 0\n",
      "Outliers for Moisture: 0\n",
      "Outliers for Nitrogen: 0\n",
      "Outliers for Potassium: 910\n",
      "Outliers for Phosphorous: 0\n"
     ]
    }
   ],
   "source": [
    "# Define threshold value for identifying outliers\n",
    "threshold = 1.5\n",
    "\n",
    "# Iterate over the columns in the dataset\n",
    "for column in df.columns:\n",
    "    # Select columns that do not contain categorical data\n",
    "    if df[column].dtype != \"object\":\n",
    "        # Get first quartile\n",
    "        Q1 = df[column].quantile(0.25)\n",
    "        \n",
    "        # Get third quartile\n",
    "        Q3 = df[column].quantile(0.75)\n",
    "\n",
    "        # Get IQR of particular column\n",
    "        IQR = Q3 - Q1\n",
    "\n",
    "        # Identify outliers\n",
    "        outliers = df[((df[column] < Q1 - threshold * IQR) | (df[column] > Q3 + threshold * IQR))]\n",
    "\n",
    "        # NOTE\n",
    "        # `outliers` itself is a dataframe. Therefore, to get the number of rows\n",
    "        # that are outliers, we can use `len(outliers)`\n",
    "        \n",
    "        print(f\"Outliers for {column}: {len(outliers)}\")"
   ]
  }
 ],
 "metadata": {
  "kernelspec": {
   "display_name": "Python 3 (ipykernel)",
   "language": "python",
   "name": "python3"
  },
  "language_info": {
   "codemirror_mode": {
    "name": "ipython",
    "version": 3
   },
   "file_extension": ".py",
   "mimetype": "text/x-python",
   "name": "python",
   "nbconvert_exporter": "python",
   "pygments_lexer": "ipython3",
   "version": "3.12.3"
  }
 },
 "nbformat": 4,
 "nbformat_minor": 5
}
